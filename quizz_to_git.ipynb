{
 "cells": [
  {
   "cell_type": "code",
   "execution_count": null,
   "metadata": {},
   "outputs": [],
   "source": [
    "#rajout d'un text test pour commit push git \n",
    "#QUIZZ\n",
    "\n",
    "def quiz():\n",
    "    questions_answers = [\n",
    "        (\"Who is the boss of X?\", \"Elon Musk\"),\n",
    "        (\"Which years X where fonded?\", \"1976\"),\n",
    "        (\"How many people fonded it?\", \"2\")\n",
    "         ]\n",
    "    \n",
    "    lives = 3\n",
    "\n",
    "    for question, answer in questions_answers:\n",
    "        while lives > 0:\n",
    "            user_answer = input(question + \"\")\n",
    "            if user_answer.lower() == answer.lower():\n",
    "                print(\"GOOD JOB! THIS THE RIGHT ANSWER!\")\n",
    "                break\n",
    "            else:\n",
    "                lives -= 1\n",
    "                if lives > 0:\n",
    "                    print(f\"TOO BAD, it is not the correct answer. You have {lives} attempts left. Please try again\")\n",
    "                else:\n",
    "                    print(f\"TOO BAD! That is not the correct answer. You have no more attempts left. The correct answer was: {answer}\")\n",
    "                    print(\"TOO BAD YOU LOOSE\")"
   ]
  }
 ],
 "metadata": {
  "kernelspec": {
   "display_name": "base",
   "language": "python",
   "name": "python3"
  },
  "language_info": {
   "name": "python",
   "version": "3.11.7"
  }
 },
 "nbformat": 4,
 "nbformat_minor": 2
}
